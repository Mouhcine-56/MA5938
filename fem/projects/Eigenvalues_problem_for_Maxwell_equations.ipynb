{
 "cells": [
  {
   "cell_type": "markdown",
   "metadata": {},
   "source": [
    "The aim of this project is to study the following eigenvalue problem:\n",
    "\n",
    "Find $\\omega \\in \\mathbb{R}, ~ \\omega \\neq 0$, and $\\mathbf{u} \\in \\mathbf{H}_0(\\mbox{curl}, \\Omega), ~ \\mathbf{u} \\neq \\mathbf{0}$, such that\n",
    "\n",
    "$\n",
    "\\begin{equation}\n",
    "  \\left( \\mbox{curl} ~ \\mathbf{u},  \\mbox{curl}~ \\mathbf{v} \\right) = \\omega^2 \\left( \\mathbf{u}, \\mathbf{v} \\right), \\quad \\forall ~ \\mathbf{v} \\in \\mathbf{H}_0(\\mbox{curl}, \\Omega)  \n",
    "  \\label{eq:weak-form}\n",
    "\\end{equation}\n",
    "$\n"
   ]
  },
  {
   "cell_type": "markdown",
   "metadata": {},
   "source": [
    "We shall restrict our study to the 2D case and will be interested in two geometries:\n",
    "\n",
    "1. First we will consider the square $(0, 1)^2$, \n",
    "2. Then we study the eigenvalues problem on an L-shape domain, using a $C^1$ description, as shown in the next plot.\n",
    "\n"
   ]
  },
  {
   "cell_type": "markdown",
   "metadata": {},
   "source": [
    "![alt text](L_shape_C1.png \"L-shape domain using a C1 description\")"
   ]
  },
  {
   "cell_type": "markdown",
   "metadata": {},
   "source": [
    "## Questions"
   ]
  },
  {
   "cell_type": "markdown",
   "metadata": {},
   "source": [
    "### Part I"
   ]
  },
  {
   "cell_type": "markdown",
   "metadata": {},
   "source": [
    "The computational domain considered here is the square $(0, 1)^2$.\n",
    "\n",
    "1. Show that the eigenvalues are given by $\\omega^2 = \\pi^2 ( m^2 + n^2 )$ for $m,n \\in \\mathbb{N}$ and their corresponding eigenfunctions are \n",
    "\n",
    "$\n",
    "\\mathbf{u} = \n",
    "\\begin{pmatrix}\n",
    "-n \\cos (m x) \\sin(n y) \\\\\n",
    " m \\sin (m x) \\cos(n y)\n",
    "\\end{pmatrix}\n",
    "$\n",
    "\n",
    "2. Write the matrix form associated to the eigenvalue problem.\n",
    "\n",
    "3. The file **maxwell_eigen_exam_1.py** is an implementation of the eigenvalue problem on the unit square. There are two functions to be implemented:\n",
    "\n",
    "    * **apply_bc**: the provided implementation uses all the B-Splines in the FEM space. We need to filter the assembled matrices in order to apply the associated boundary condition for $\\mathbf{H}_0(\\mbox{curl}, \\Omega)$\n",
    "    * **exact_eigen**: since the exact eigenvalues are infinite, we need to extract a set to compare our results with. This set is related the dimension of the discrete space.\n",
    "    \n",
    "4. Solve numericaly the eigenvalue problem and show the results for different degrees.\n",
    "\n",
    "5. Show the number of zeros in each of the previous simulations and compare it to the dimension of the kernel of the curl operator.\n",
    "\n",
    "6. (optional) Prove the previous result for a simply connected domain.\n",
    "\n",
    "Note: We will restrict our study to small grids (<= 32 x 32), otherwise the computations will take time."
   ]
  },
  {
   "cell_type": "markdown",
   "metadata": {},
   "source": [
    "### Part II"
   ]
  },
  {
   "cell_type": "markdown",
   "metadata": {},
   "source": [
    "We are now interested in introduction the mapping, and we will modify our code to solve the eigenvalue problem first on the square $(0, \\pi)^2$. \n",
    "We will be using the file **maxwell_eigen_exam_2.py** in addition to the functions **apply_bc** and **exact_eigen**.\n",
    "\n",
    "1. Add the appropriate statements for the preseving transformations. Note that in the function **assemble_matrices**, the computations are given on the logical domain. \n",
    "\n",
    "2. In order to validate the computations, use a square of length $\\pi$ by calling\n",
    "\n",
    "```python\n",
    "mapping = create_mapping(V, kind='square', length=np.pi)\n",
    "```\n",
    "\n",
    "What are the exact eigenvalues in this case?\n",
    "\n",
    "3. Add the L-Shape surface to **create_mapping** and compute the numerical eigenvalues for different grids and degrees. \n",
    "For benchmarks, check the following [reference list](https://perso.univ-rennes1.fr/monique.dauge/benchmax.html)\n"
   ]
  },
  {
   "cell_type": "markdown",
   "metadata": {},
   "source": [
    "### Part III (optional)"
   ]
  },
  {
   "cell_type": "markdown",
   "metadata": {},
   "source": [
    "1. Change the implementations of the mappings so that we only have a $C^0$ continuity at a given knot. What do you observe?\n",
    "2. Show the evolution of the relative error and give the convergence order for the mode $(3,3)$ using different mappings and regularities."
   ]
  },
  {
   "cell_type": "code",
   "execution_count": null,
   "metadata": {},
   "outputs": [],
   "source": []
  }
 ],
 "metadata": {
  "kernelspec": {
   "display_name": "Python 3",
   "language": "python",
   "name": "python3"
  },
  "language_info": {
   "codemirror_mode": {
    "name": "ipython",
    "version": 3
   },
   "file_extension": ".py",
   "mimetype": "text/x-python",
   "name": "python",
   "nbconvert_exporter": "python",
   "pygments_lexer": "ipython3",
   "version": "3.6.8"
  }
 },
 "nbformat": 4,
 "nbformat_minor": 2
}
